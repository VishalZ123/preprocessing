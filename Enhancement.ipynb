{
 "cells": [
  {
   "cell_type": "code",
   "execution_count": null,
   "metadata": {},
   "outputs": [],
   "source": [
    "import cv2\n",
    "import numpy as np\n",
    "import os\n",
    "import matplotlib.pyplot as plt\n",
    "\n",
    "def removeBorders(filePath):\n",
    "    img = cv2.imread(filePath,cv2.IMREAD_COLOR)\n",
    "    img2 = cv2.cvtColor(img, cv2.COLOR_BGR2GRAY)\n",
    "\n",
    "    _, threshold = cv2.threshold(img2, 40, 255, cv2.THRESH_BINARY)\n",
    "    contours, _= cv2.findContours(threshold, cv2.RETR_TREE, cv2.CHAIN_APPROX_SIMPLE)\n",
    "\n",
    "    list_x = []\n",
    "    list_y = []\n",
    "\n",
    "    for cnt in contours:\n",
    "  \n",
    "        approx = cv2.approxPolyDP(cnt, 0.009 * cv2.arcLength(cnt, True), True)\n",
    "\n",
    "        cv2.drawContours(img2, [approx], 0, (0, 0, 255), 5) \n",
    "\n",
    "        n = approx.ravel()\n",
    "        i = 0\n",
    "        for j in n :\n",
    "            if(i % 2 == 0):\n",
    "                x = n[i]\n",
    "                y = n[i + 1]\n",
    "\n",
    "                list_x.append(x)\n",
    "                list_y.append(y)\n",
    "            i = i + 1\n",
    "    plt.imshow(img2)\n",
    "    plt.show()\n",
    "    img3 = img[min(list_y):max(list_y),min(list_x):max(list_x)]\n",
    "    path = 'cropped_photos/'+filePath[6:]\n",
    "    img3 = cv2.resize(img3,(600,600))\n",
    "    cv2.imwrite(path, img3)"
   ]
  },
  {
   "cell_type": "code",
   "execution_count": null,
   "metadata": {},
   "outputs": [],
   "source": [
    "directory = 'STARE'\n",
    "for filename in os.listdir(directory):\n",
    "    f = os.path.join(directory, filename)\n",
    "    if os.path.isfile(f):\n",
    "        removeBorders(f)"
   ]
  },
  {
   "cell_type": "code",
   "execution_count": null,
   "metadata": {},
   "outputs": [],
   "source": [
    "def gammaCorrection(filePath, gamma):\n",
    "    img = cv2.imread(filePath)\n",
    "    invGamma = 1 / gamma\n",
    " \n",
    "    table = [((i / 255) ** invGamma) * 255 for i in range(256)]\n",
    "    table = np.array(table, np.uint8)\n",
    "    \n",
    "    path = 'gamma_corrected/'+filePath[15:]\n",
    "    cv2.imwrite(path, cv2.LUT(img, table))\n",
    "    "
   ]
  },
  {
   "cell_type": "code",
   "execution_count": null,
   "metadata": {},
   "outputs": [],
   "source": [
    "directory = 'cropped_photos'\n",
    "for filename in os.listdir(directory):\n",
    "    f = os.path.join(directory, filename)\n",
    "    if os.path.isfile(f):\n",
    "        gammaCorrection(f,1.2)"
   ]
  },
  {
   "cell_type": "code",
   "execution_count": null,
   "metadata": {},
   "outputs": [],
   "source": [
    "def CLAHE(filePath):\n",
    "    image = cv2.imread(filePath)\n",
    "\n",
    "    hsv = cv2.cvtColor(image, cv2.COLOR_BGR2HSV)\n",
    "    hsv_planes = cv2.split(hsv)\n",
    "    clahe = cv2.createCLAHE(clipLimit=2.0, tileGridSize=(8, 8))\n",
    "    hsv_planes[2] = clahe.apply(hsv_planes[2])\n",
    "    hsv = cv2.merge(hsv_planes)\n",
    "\n",
    "    save_location = \"CLAHE/\"+filePath[16:]\n",
    "    cv2.imwrite(save_location,cv2.cvtColor(hsv, cv2.COLOR_HSV2BGR))\n",
    "\n",
    "directory = 'gamma_corrected'\n",
    "for filename in os.listdir(directory):\n",
    "    f = os.path.join(directory, filename)\n",
    "    if os.path.isfile(f):\n",
    "        CLAHE(f)"
   ]
  }
 ],
 "metadata": {
  "interpreter": {
   "hash": "2d9253fbe24b12a4c8e9938db288f709fadcc6f67a956973fd5b49240e1b5a0e"
  },
  "kernelspec": {
   "display_name": "Python 3.9.6 64-bit",
   "name": "python3"
  },
  "language_info": {
   "codemirror_mode": {
    "name": "ipython",
    "version": 3
   },
   "file_extension": ".py",
   "mimetype": "text/x-python",
   "name": "python",
   "nbconvert_exporter": "python",
   "pygments_lexer": "ipython3",
   "version": "3.9.6"
  },
  "orig_nbformat": 4
 },
 "nbformat": 4,
 "nbformat_minor": 2
}
